{
 "cells": [
  {
   "cell_type": "code",
   "execution_count": 1,
   "id": "bd062b2b",
   "metadata": {},
   "outputs": [
    {
     "name": "stdout",
     "output_type": "stream",
     "text": [
      "✅ Configuration file 'configs/config.yaml' created.\n"
     ]
    }
   ],
   "source": [
    "# Create a dummy config.yaml file for demonstration purposes\n",
    "import yaml\n",
    "import os\n",
    "import torch\n",
    "\n",
    "config_data = {\n",
    "    'dataset': {\n",
    "        'batch_size': 64,\n",
    "        'validation_split': 0.2,\n",
    "        'download': True,\n",
    "        'shuffle': True,\n",
    "        'path': './data'\n",
    "    },\n",
    "    'training': {\n",
    "        'device': 'cuda' if torch.cuda.is_available() else 'cpu',\n",
    "        'learning_rate': 0.001,\n",
    "        'epochs': 5\n",
    "    }\n",
    "}\n",
    "\n",
    "os.makedirs('configs', exist_ok=True)\n",
    "with open('configs/config.yaml', 'w') as f:\n",
    "    yaml.dump(config_data, f)\n",
    "    \n",
    "print(\"✅ Configuration file 'configs/config.yaml' created.\")"
   ]
  },
  {
   "cell_type": "code",
   "execution_count": 2,
   "id": "e9f7524f",
   "metadata": {},
   "outputs": [],
   "source": [
    "# Import necessary libraries\n",
    "import torch\n",
    "import torch.nn as nn\n",
    "import torch.optim as optim\n",
    "from torch.utils.data import DataLoader, random_split\n",
    "from torchvision import datasets, transforms\n",
    "from tqdm import tqdm\n",
    "import yaml\n",
    "import os\n",
    "import matplotlib.pyplot as plt\n",
    "import seaborn as sns\n",
    "from sklearn.metrics import confusion_matrix, classification_report, accuracy_score\n",
    "import numpy as np\n",
    "import json\n",
    "import random\n",
    "\n",
    "# Helper function to load configuration\n",
    "def get_config(path=\"configs/config.yaml\"):\n",
    "    with open(path, \"r\") as f:\n",
    "        config = yaml.safe_load(f)\n",
    "    return config\n",
    "\n",
    "# Helper function for reproducibility\n",
    "def set_seed(seed=0):\n",
    "    random.seed(seed)\n",
    "    np.random.seed(seed)\n",
    "    torch.manual_seed(seed)\n",
    "    if torch.cuda.is_available():\n",
    "        torch.cuda.manual_seed(seed)\n",
    "        torch.cuda.manual_seed_all(seed)\n",
    "    torch.backends.cudnn.deterministic = True\n",
    "    torch.backends.cudnn.benchmark = False\n",
    "\n",
    "set_seed(0)"
   ]
  },
  {
   "cell_type": "code",
   "execution_count": 3,
   "id": "fa9b096a",
   "metadata": {},
   "outputs": [
    {
     "name": "stderr",
     "output_type": "stream",
     "text": [
      "100%|██████████| 9.91M/9.91M [01:07<00:00, 146kB/s] \n",
      "100%|██████████| 28.9k/28.9k [00:00<00:00, 85.6kB/s]\n",
      "100%|██████████| 1.65M/1.65M [00:12<00:00, 132kB/s] \n",
      "100%|██████████| 4.54k/4.54k [00:00<00:00, 60.8kB/s]"
     ]
    },
    {
     "name": "stdout",
     "output_type": "stream",
     "text": [
      "✅ DataLoaders created. Train samples: 48000, Validation samples: 12000, Test samples: 10000\n"
     ]
    },
    {
     "name": "stderr",
     "output_type": "stream",
     "text": [
      "\n"
     ]
    }
   ],
   "source": [
    "def get_mnist_dataloaders(config):\n",
    "    \"\"\"\n",
    "    Returns train, validation, and test DataLoaders for MNIST\n",
    "    \"\"\"\n",
    "    # Config params\n",
    "    batch_size = config['dataset']['batch_size']\n",
    "    val_split = config['dataset']['validation_split']\n",
    "    download = config['dataset']['download']\n",
    "    shuffle = config['dataset']['shuffle']\n",
    "    path = config['dataset']['path']\n",
    "\n",
    "    # 1. Define transforms\n",
    "    transform = transforms.Compose([\n",
    "        transforms.ToTensor(),\n",
    "        transforms.Normalize((0.1307,), (0.3081,))\n",
    "    ])\n",
    "\n",
    "    # 2. Load full training dataset\n",
    "    full_train = datasets.MNIST(root=path, train=True, transform=transform, download=download)\n",
    "\n",
    "    # 3. Create train/validation split\n",
    "    val_size = int(len(full_train) * val_split)\n",
    "    train_size = len(full_train) - val_size\n",
    "    train_dataset, val_dataset = random_split(full_train, [train_size, val_size])\n",
    "\n",
    "    # 4. Test dataset\n",
    "    test_dataset = datasets.MNIST(root=path, train=False, transform=transform, download=download)\n",
    "\n",
    "    # 5. DataLoaders\n",
    "    train_loader = DataLoader(train_dataset, batch_size=batch_size, shuffle=shuffle)\n",
    "    val_loader = DataLoader(val_dataset, batch_size=batch_size, shuffle=False)\n",
    "    test_loader = DataLoader(test_dataset, batch_size=batch_size, shuffle=False)\n",
    "\n",
    "    return train_loader, val_loader, test_loader\n",
    "\n",
    "# Example usage\n",
    "config = get_config()\n",
    "train_loader, val_loader, test_loader = get_mnist_dataloaders(config)\n",
    "print(f\"✅ DataLoaders created. Train samples: {len(train_loader.dataset)}, Validation samples: {len(val_loader.dataset)}, Test samples: {len(test_loader.dataset)}\")"
   ]
  },
  {
   "cell_type": "code",
   "execution_count": 6,
   "id": "c29d2bbf",
   "metadata": {},
   "outputs": [
    {
     "name": "stdout",
     "output_type": "stream",
     "text": [
      "✅ CNN model defined.\n"
     ]
    }
   ],
   "source": [
    "import torch.nn.functional as F\n",
    "class CNN(nn.Module):\n",
    "    def __init__(self, num_classes=10):\n",
    "        super(CNN, self).__init__()\n",
    "\n",
    "        # Convolutional layers\n",
    "        self.conv1 = nn.Conv2d(in_channels=1, out_channels=32, kernel_size=3, stride=1, padding=1)\n",
    "        self.conv2 = nn.Conv2d(32, 64, kernel_size=3, stride=1, padding=1)\n",
    "\n",
    "        # Pooling layer\n",
    "        self.pool = nn.MaxPool2d(kernel_size=2, stride=2)\n",
    "\n",
    "        # Fully connected layers\n",
    "        self.fc1 = nn.Linear(64*7*7, 128)\n",
    "        self.fc2 = nn.Linear(128, num_classes)\n",
    "\n",
    "        # Dropout (regularization)\n",
    "        self.dropout = nn.Dropout(0.5)\n",
    "\n",
    "    def forward(self, x):\n",
    "        # Convolution + ReLU + Pooling\n",
    "        x = self.pool(F.relu(self.conv1(x)))\n",
    "        x = self.pool(F.relu(self.conv2(x)))\n",
    "\n",
    "        # Flatten\n",
    "        x = x.view(x.size(0), -1)\n",
    "\n",
    "        # Fully connected + ReLU + Dropout\n",
    "        x = F.relu(self.fc1(x))\n",
    "        x = self.dropout(x)\n",
    "\n",
    "        # Output layer\n",
    "        x = self.fc2(x)\n",
    "        return x\n",
    "\n",
    "# Example usage\n",
    "model = CNN()\n",
    "print(\"✅ CNN model defined.\")"
   ]
  },
  {
   "cell_type": "code",
   "execution_count": 7,
   "id": "02b723c5",
   "metadata": {},
   "outputs": [
    {
     "name": "stderr",
     "output_type": "stream",
     "text": [
      "                                                                          \r"
     ]
    },
    {
     "name": "stdout",
     "output_type": "stream",
     "text": [
      "Epoch [1] Training Loss: 0.2534, Training Acc: 92.28%\n",
      "Validation Acc: 98.19%\n",
      "✅ Saved new best model!\n"
     ]
    },
    {
     "name": "stderr",
     "output_type": "stream",
     "text": [
      "                                                                           \r"
     ]
    },
    {
     "name": "stdout",
     "output_type": "stream",
     "text": [
      "Epoch [2] Training Loss: 0.0917, Training Acc: 97.35%\n",
      "Validation Acc: 98.32%\n",
      "✅ Saved new best model!\n"
     ]
    },
    {
     "name": "stderr",
     "output_type": "stream",
     "text": [
      "                                                                           \r"
     ]
    },
    {
     "name": "stdout",
     "output_type": "stream",
     "text": [
      "Epoch [3] Training Loss: 0.0676, Training Acc: 97.98%\n",
      "Validation Acc: 98.76%\n",
      "✅ Saved new best model!\n"
     ]
    },
    {
     "name": "stderr",
     "output_type": "stream",
     "text": [
      "                                                                            \r"
     ]
    },
    {
     "name": "stdout",
     "output_type": "stream",
     "text": [
      "Epoch [4] Training Loss: 0.0547, Training Acc: 98.32%\n",
      "Validation Acc: 98.96%\n",
      "✅ Saved new best model!\n"
     ]
    },
    {
     "name": "stderr",
     "output_type": "stream",
     "text": [
      "                                                                           \r"
     ]
    },
    {
     "name": "stdout",
     "output_type": "stream",
     "text": [
      "Epoch [5] Training Loss: 0.0456, Training Acc: 98.65%\n",
      "Validation Acc: 98.89%\n",
      "Training complete.\n"
     ]
    }
   ],
   "source": [
    "def evaluate_validation(model, dataloader, device):\n",
    "    \"\"\"\n",
    "    Runs evaluation on validation data.\n",
    "    \"\"\"\n",
    "    model.eval()\n",
    "    correct, total = 0, 0\n",
    "    with torch.no_grad():\n",
    "        for images, labels in dataloader:\n",
    "            images, labels = images.to(device), labels.to(device)\n",
    "            outputs = model(images)\n",
    "            _, predicted = torch.max(outputs, 1)\n",
    "            total += labels.size(0)\n",
    "            correct += (predicted == labels).sum().item()\n",
    "    return 100 * correct / total\n",
    "\n",
    "def train_model():\n",
    "    config = get_config()\n",
    "    device = torch.device(config['training']['device'])\n",
    "    \n",
    "    train_loader, val_loader, _ = get_mnist_dataloaders(config)\n",
    "\n",
    "    model = CNN(num_classes=10).to(device)\n",
    "    criterion = nn.CrossEntropyLoss()\n",
    "    optimizer = optim.Adam(model.parameters(), lr=config['training']['learning_rate'])\n",
    "\n",
    "    best_val_acc = 0.0\n",
    "    for epoch in range(config['training']['epochs']):\n",
    "        model.train()\n",
    "        running_loss = 0.0\n",
    "        correct, total = 0, 0\n",
    "\n",
    "        loop = tqdm(train_loader, desc=f\"Epoch {epoch+1}/{config['training']['epochs']}\", leave=False)\n",
    "        for images, labels in loop:\n",
    "            images, labels = images.to(device), labels.to(device)\n",
    "\n",
    "            optimizer.zero_grad()\n",
    "            outputs = model(images)\n",
    "            loss = criterion(outputs, labels)\n",
    "            loss.backward()\n",
    "            optimizer.step()\n",
    "\n",
    "            running_loss += loss.item()\n",
    "            _, predicted = torch.max(outputs, 1)\n",
    "            total += labels.size(0)\n",
    "            correct += (predicted == labels).sum().item()\n",
    "\n",
    "            loop.set_postfix(loss=loss.item())\n",
    "\n",
    "        train_acc = 100 * correct / total\n",
    "        print(f\"Epoch [{epoch+1}] Training Loss: {running_loss/len(train_loader):.4f}, Training Acc: {train_acc:.2f}%\")\n",
    "\n",
    "        val_acc = evaluate_validation(model, val_loader, device)\n",
    "        print(f\"Validation Acc: {val_acc:.2f}%\")\n",
    "\n",
    "        if val_acc > best_val_acc:\n",
    "            best_val_acc = val_acc\n",
    "            os.makedirs(\"checkpoints\", exist_ok=True)\n",
    "            torch.save(model.state_dict(), \"checkpoints/best_model.pth\")\n",
    "            print(\"✅ Saved new best model!\")\n",
    "\n",
    "    print(\"Training complete.\")\n",
    "    \n",
    "train_model()"
   ]
  },
  {
   "cell_type": "code",
   "execution_count": 8,
   "id": "7ad4d95e",
   "metadata": {},
   "outputs": [
    {
     "name": "stdout",
     "output_type": "stream",
     "text": [
      "Classification Report:\n",
      "\n",
      "              precision    recall  f1-score   support\n",
      "\n",
      "           0     0.9889    0.9959    0.9924       980\n",
      "           1     0.9870    1.0000    0.9934      1135\n",
      "           2     0.9903    0.9932    0.9918      1032\n",
      "           3     0.9931    0.9950    0.9941      1010\n",
      "           4     0.9908    0.9898    0.9903       982\n",
      "           5     0.9921    0.9910    0.9916       892\n",
      "           6     0.9948    0.9896    0.9922       958\n",
      "           7     0.9873    0.9864    0.9869      1028\n",
      "           8     0.9917    0.9846    0.9882       974\n",
      "           9     0.9930    0.9812    0.9870      1009\n",
      "\n",
      "    accuracy                         0.9908     10000\n",
      "   macro avg     0.9909    0.9907    0.9908     10000\n",
      "weighted avg     0.9908    0.9908    0.9908     10000\n",
      "\n",
      "✅ Confusion matrix saved at results/confusion_matrix.png\n",
      "✅ Metrics saved at results/metrics.json\n"
     ]
    },
    {
     "data": {
      "image/png": "[encoded data removed]",
      "text/plain": [
       "<Figure size 800x600 with 2 Axes>"
      ]
     },
     "metadata": {},
     "output_type": "display_data"
    }
   ],
   "source": [
    "def evaluate_model():\n",
    "    config = get_config()\n",
    "    checkpoint_path = \"checkpoints/best_model.pth\"\n",
    "    \n",
    "    if not os.path.exists(checkpoint_path):\n",
    "        print(\"❌ Error: Checkpoint file not found. Please run the training cell first.\")\n",
    "        return\n",
    "\n",
    "    device = torch.device(config['training']['device'])\n",
    "    _, _, test_loader = get_mnist_dataloaders(config)\n",
    "\n",
    "    model = CNN(num_classes=10).to(device)\n",
    "    model.load_state_dict(torch.load(checkpoint_path, map_location=device))\n",
    "    model.eval()\n",
    "\n",
    "    all_preds, all_labels = [], []\n",
    "    with torch.no_grad():\n",
    "        for images, labels in test_loader:\n",
    "            images, labels = images.to(device), labels.to(device)\n",
    "            outputs = model(images)\n",
    "            _, predicted = torch.max(outputs, 1)\n",
    "            all_preds.extend(predicted.cpu().numpy())\n",
    "            all_labels.extend(labels.cpu().numpy())\n",
    "\n",
    "    print(\"Classification Report:\\n\")\n",
    "    report = classification_report(all_labels, all_preds, digits=4)\n",
    "    print(report)\n",
    "\n",
    "    cm = confusion_matrix(all_labels, all_preds)\n",
    "    plt.figure(figsize=(8, 6))\n",
    "    sns.heatmap(cm, annot=True, fmt=\"d\", cmap=\"Blues\", xticklabels=range(10), yticklabels=range(10))\n",
    "    plt.xlabel(\"Predicted\")\n",
    "    plt.ylabel(\"True\")\n",
    "    plt.title(\"Confusion Matrix - MNIST\")\n",
    "\n",
    "    os.makedirs(\"results\", exist_ok=True)\n",
    "    plt.savefig(\"results/confusion_matrix.png\")\n",
    "    print(\"✅ Confusion matrix saved at results/confusion_matrix.png\")\n",
    "\n",
    "    metrics = {\n",
    "        \"accuracy\": accuracy_score(all_labels, all_preds),\n",
    "        \"classification_report\": classification_report(all_labels, all_preds, digits=4, output_dict=True)\n",
    "    }\n",
    "\n",
    "    os.makedirs(\"results\", exist_ok=True)\n",
    "    with open(\"results/metrics.json\", \"w\") as f:\n",
    "        json.dump(metrics, f, indent=4)\n",
    "\n",
    "    print(\"✅ Metrics saved at results/metrics.json\")\n",
    "    \n",
    "evaluate_model()"
   ]
  }
 ],
 "metadata": {
  "kernelspec": {
   "display_name": "venv",
   "language": "python",
   "name": "python3"
  },
  "language_info": {
   "codemirror_mode": {
    "name": "ipython",
    "version": 3
   },
   "file_extension": ".py",
   "mimetype": "text/x-python",
   "name": "python",
   "nbconvert_exporter": "python",
   "pygments_lexer": "ipython3",
   "version": "3.13.6"
  }
 },
 "nbformat": 4,
 "nbformat_minor": 5
}
